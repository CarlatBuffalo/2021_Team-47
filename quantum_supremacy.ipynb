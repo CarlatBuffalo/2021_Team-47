{
 "cells": [
  {
   "cell_type": "markdown",
   "metadata": {},
   "source": [
    "# Quantum Supremacy"
   ]
  },
  {
   "cell_type": "markdown",
   "metadata": {},
   "source": [
    "### Imports Go Here"
   ]
  },
  {
   "cell_type": "code",
   "execution_count": 43,
   "metadata": {},
   "outputs": [],
   "source": [
    "from qiskit import Aer\n",
    "import numpy as np\n",
    "from qiskit_ionq_provider import IonQProvider \n",
    "key = str(np.genfromtxt('ionQkey.txt',dtype='str'))\n",
    "provider = IonQProvider(token=key)\n",
    "from qiskit import QuantumCircuit"
   ]
  },
  {
   "cell_type": "markdown",
   "metadata": {},
   "source": [
    "### Functions Go Here"
   ]
  },
  {
   "cell_type": "code",
   "execution_count": 63,
   "metadata": {},
   "outputs": [],
   "source": [
    "def get_players():\n",
    "    N = 0\n",
    "    while N < 2:\n",
    "        N = int(input('How many players are there?\\n Enter Number: '))\n",
    "        \n",
    "        if N < 2:\n",
    "            print('Please have at least two players')\n",
    "    return N\n",
    "\n",
    "def get_init_state(N):\n",
    "    qc = QuantumCircuit(N)\n",
    "    init_string = ''\n",
    "    for i in np.arange(N):\n",
    "        state_valid = False\n",
    "        while not state_valid: \n",
    "            state = input('Player ' + str(i + 1) + ', select your initial state: \\n0: |0>\\n1: |1>\\n2: (|0> + |1>)/sqrt(2)\\n' )\n",
    "            print('')\n",
    "            \n",
    "            if (state != '0') and (state != '1') and (state != '2'):\n",
    "                print('Please input a valid state')\n",
    "            else:\n",
    "                state_valid=True\n",
    "                \n",
    "        init_string += state\n",
    "\n",
    "    for i, s in enumerate(init_string):\n",
    "        if s=='1':\n",
    "            qc.x(i)\n",
    "        if s=='2':\n",
    "            qc.h(i)    \n",
    "    return qc\n",
    "\n",
    "def davids_gameplay_loop(N):\n",
    "    qc = QuantumCircuit(N)\n",
    "    qc.cx(0, 1)\n",
    "    return qc\n",
    "\n",
    "def game_end(N, qc_init, qc_game):\n",
    "    p1s = np.ones(N)/N\n",
    "    p1s[0] -= 0.1\n",
    "    p1s[1] += 0.1\n",
    "    return p1s, 1\n",
    "\n",
    "def main():\n",
    "    N = get_players()\n",
    "    \n",
    "    qc_init = get_init_state(N)\n",
    "    qc_init.draw()\n",
    "    qc_game = davids_gameplay_loop(N)\n",
    "    p1_vec, winner_ind = game_end(N, qc_init, qc_game) # N argument is temp\n",
    "    \n",
    "    print('Final Circuit:')\n",
    "    print(qc_init + qc_game)\n",
    "    print('')\n",
    "    \n",
    "    print('Results:')\n",
    "    print(p1_vec)\n",
    "    print('Player ' + str(winner_ind + 1) + ' is the winner!')"
   ]
  },
  {
   "cell_type": "markdown",
   "metadata": {},
   "source": [
    "### Play Here"
   ]
  },
  {
   "cell_type": "code",
   "execution_count": 65,
   "metadata": {},
   "outputs": [
    {
     "name": "stdout",
     "output_type": "stream",
     "text": [
      "How many players are there?\n",
      " Enter Number: 3\n",
      "Player 1, select your initial state: \n",
      "0: |0>\n",
      "1: |1>\n",
      "2: (|0> + |1>)/sqrt(2)\n",
      "3\n",
      "\n",
      "Please input a valid state\n",
      "Player 1, select your initial state: \n",
      "0: |0>\n",
      "1: |1>\n",
      "2: (|0> + |1>)/sqrt(2)\n",
      "3\n",
      "\n",
      "Please input a valid state\n",
      "Player 1, select your initial state: \n",
      "0: |0>\n",
      "1: |1>\n",
      "2: (|0> + |1>)/sqrt(2)\n",
      "3\n",
      "\n",
      "Please input a valid state\n",
      "Player 1, select your initial state: \n",
      "0: |0>\n",
      "1: |1>\n",
      "2: (|0> + |1>)/sqrt(2)\n",
      "2\n",
      "\n",
      "Player 2, select your initial state: \n",
      "0: |0>\n",
      "1: |1>\n",
      "2: (|0> + |1>)/sqrt(2)\n",
      "2\n",
      "\n",
      "Player 3, select your initial state: \n",
      "0: |0>\n",
      "1: |1>\n",
      "2: (|0> + |1>)/sqrt(2)\n",
      "4\n",
      "\n",
      "Please input a valid state\n",
      "Player 3, select your initial state: \n",
      "0: |0>\n",
      "1: |1>\n",
      "2: (|0> + |1>)/sqrt(2)\n",
      "5\n",
      "\n",
      "Please input a valid state\n",
      "Player 3, select your initial state: \n",
      "0: |0>\n",
      "1: |1>\n",
      "2: (|0> + |1>)/sqrt(2)\n",
      "fcuck you\n",
      "\n",
      "Please input a valid state\n",
      "Player 3, select your initial state: \n",
      "0: |0>\n",
      "1: |1>\n",
      "2: (|0> + |1>)/sqrt(2)\n",
      "2\n",
      "\n",
      "Final Circuit:\n",
      "     ┌───┐     \n",
      "q_0: ┤ H ├──■──\n",
      "     ├───┤┌─┴─┐\n",
      "q_1: ┤ H ├┤ X ├\n",
      "     ├───┤└───┘\n",
      "q_2: ┤ H ├─────\n",
      "     └───┘     \n",
      "\n",
      "Results:\n",
      "[0.23333333 0.43333333 0.33333333]\n",
      "Player 2 is the winner!\n"
     ]
    }
   ],
   "source": [
    "main()"
   ]
  },
  {
   "cell_type": "code",
   "execution_count": 53,
   "metadata": {},
   "outputs": [
    {
     "name": "stdout",
     "output_type": "stream",
     "text": [
      "How many players are there?\n",
      " Enter Number: 3\n",
      "Player 1, select your initial state: \n",
      "0: |0>\n",
      "1: |1>\n",
      "2: (|0> + |1>)/sqrt(2)\n",
      "1\n",
      "\n",
      "Player 2, select your initial state: \n",
      "0: |0>\n",
      "1: |1>\n",
      "2: (|0> + |1>)/sqrt(2)\n",
      "1\n",
      "\n",
      "Player 3, select your initial state: \n",
      "0: |0>\n",
      "1: |1>\n",
      "2: (|0> + |1>)/sqrt(2)\n",
      "1\n",
      "\n"
     ]
    },
    {
     "data": {
      "text/html": [
       "<pre style=\"word-wrap: normal;white-space: pre;background: #fff0;line-height: 1.1;font-family: &quot;Courier New&quot;,Courier,monospace\">     ┌───┐\n",
       "q_0: ┤ X ├\n",
       "     ├───┤\n",
       "q_1: ┤ X ├\n",
       "     ├───┤\n",
       "q_2: ┤ X ├\n",
       "     └───┘</pre>"
      ],
      "text/plain": [
       "     ┌───┐\n",
       "q_0: ┤ X ├\n",
       "     ├───┤\n",
       "q_1: ┤ X ├\n",
       "     ├───┤\n",
       "q_2: ┤ X ├\n",
       "     └───┘"
      ]
     },
     "execution_count": 53,
     "metadata": {},
     "output_type": "execute_result"
    }
   ],
   "source": [
    "N = int(input('How many players are there?\\n Enter Number: '))\n",
    "\n",
    "qc_init = get_init_state(N)\n",
    "qc_init.draw()"
   ]
  },
  {
   "cell_type": "code",
   "execution_count": null,
   "metadata": {},
   "outputs": [],
   "source": []
  }
 ],
 "metadata": {
  "kernelspec": {
   "display_name": "Python 3",
   "language": "python",
   "name": "python3"
  },
  "language_info": {
   "codemirror_mode": {
    "name": "ipython",
    "version": 3
   },
   "file_extension": ".py",
   "mimetype": "text/x-python",
   "name": "python",
   "nbconvert_exporter": "python",
   "pygments_lexer": "ipython3",
   "version": "3.7.6"
  }
 },
 "nbformat": 4,
 "nbformat_minor": 2
}
